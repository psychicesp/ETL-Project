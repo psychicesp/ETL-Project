{
 "metadata": {
  "language_info": {
   "codemirror_mode": {
    "name": "ipython",
    "version": 3
   },
   "file_extension": ".py",
   "mimetype": "text/x-python",
   "name": "python",
   "nbconvert_exporter": "python",
   "pygments_lexer": "ipython3",
   "version": 3
  },
  "orig_nbformat": 2
 },
 "nbformat": 4,
 "nbformat_minor": 2,
 "cells": [
  {
   "cell_type": "code",
   "execution_count": null,
   "metadata": {},
   "outputs": [],
   "source": [
    "import pandas as pd\n",
    "import numpy as np"
   ]
  },
  {
   "cell_type": "code",
   "execution_count": null,
   "metadata": {},
   "outputs": [],
   "source": [
    "ramen_df = pd.read_csv('../Full_Ramen.csv')"
   ]
  },
  {
   "cell_type": "code",
   "execution_count": null,
   "metadata": {},
   "outputs": [],
   "source": [
    "def word_analysis(x):\n",
    "    empty = {}\n",
    "    search_words = ['chewiness', 'spicy', 'fresh', 'flavor', 'like', 'thick', 'tasty', 'surprisingly', 'strong', 'disappointing', 'sour', 'gravy', 'kick', 'onions', 'oil', 'new', 'new', 'sad', 'broth', 'tea', 'full', 'eat', 'good', 'fair']\n",
    "    for search_word in search_words:\n",
    "        number_of_occurences = 0\n",
    "        for word in x.split():\n",
    "            if word == search_word:\n",
    "                number_of_occurences += 1\n",
    "        empty[search_word]= number_of_occurences\n",
    "    return empty\n",
    "ramen_df[\"Blurb_Analysis\"]=ramen_df[\"Blurb\"].apply(word_analysis)\n",
    "ramen_df.head(25)"
   ]
  }
 ]
}